{
 "cells": [
  {
   "cell_type": "code",
   "execution_count": 1,
   "id": "dd8c3fce",
   "metadata": {},
   "outputs": [
    {
     "name": "stdout",
     "output_type": "stream",
     "text": [
      "Collecting stability_sdk\n",
      "  Downloading stability_sdk-0.8.4-py3-none-any.whl (117 kB)\n",
      "     -------------------------------------- 117.2/117.2 kB 2.3 MB/s eta 0:00:00\n",
      "Collecting Pillow\n",
      "  Downloading Pillow-10.0.0-cp311-cp311-win_amd64.whl (2.5 MB)\n",
      "     ---------------------------------------- 2.5/2.5 MB 8.4 MB/s eta 0:00:00\n",
      "Collecting grpcio==1.53.0\n",
      "  Downloading grpcio-1.53.0-cp311-cp311-win_amd64.whl (3.9 MB)\n",
      "     ---------------------------------------- 3.9/3.9 MB 11.0 MB/s eta 0:00:00\n",
      "Collecting grpcio-tools==1.53.0\n",
      "  Downloading grpcio_tools-1.53.0-cp311-cp311-win_amd64.whl (1.7 MB)\n",
      "     ---------------------------------------- 1.7/1.7 MB 8.9 MB/s eta 0:00:00\n",
      "Requirement already satisfied: python-dotenv in c:\\users\\elton\\appdata\\local\\programs\\python\\python311\\lib\\site-packages (from stability_sdk) (1.0.0)\n",
      "Collecting param\n",
      "  Downloading param-1.13.0-py2.py3-none-any.whl (87 kB)\n",
      "     ---------------------------------------- 87.3/87.3 kB ? eta 0:00:00\n",
      "Collecting protobuf==4.21.12\n",
      "  Downloading protobuf-4.21.12-cp310-abi3-win_amd64.whl (527 kB)\n",
      "     ------------------------------------- 527.0/527.0 kB 11.2 MB/s eta 0:00:00\n",
      "Requirement already satisfied: setuptools in c:\\users\\elton\\appdata\\local\\programs\\python\\python311\\lib\\site-packages (from grpcio-tools==1.53.0->stability_sdk) (65.5.0)\n",
      "Installing collected packages: protobuf, Pillow, param, grpcio, grpcio-tools, stability_sdk\n",
      "Successfully installed Pillow-10.0.0 grpcio-1.53.0 grpcio-tools-1.53.0 param-1.13.0 protobuf-4.21.12 stability_sdk-0.8.4\n",
      "Note: you may need to restart the kernel to use updated packages.\n"
     ]
    },
    {
     "name": "stderr",
     "output_type": "stream",
     "text": [
      "\n",
      "[notice] A new release of pip available: 22.3.1 -> 23.2.1\n",
      "[notice] To update, run: python.exe -m pip install --upgrade pip\n"
     ]
    }
   ],
   "source": [
    "#pip install stability_sdk"
   ]
  },
  {
   "cell_type": "code",
   "execution_count": 1,
   "id": "7adc423e",
   "metadata": {},
   "outputs": [],
   "source": [
    "import os\n",
    "import io\n",
    "import warnings\n",
    "from PIL import Image\n",
    "from stability_sdk import client\n",
    "import stability_sdk.interfaces.gooseai.generation.generation_pb2 as generation\n",
    "from dotenv import dotenv_values"
   ]
  },
  {
   "cell_type": "code",
   "execution_count": 2,
   "id": "a79234dc",
   "metadata": {},
   "outputs": [],
   "source": [
    "config = dotenv_values(\".env\")"
   ]
  },
  {
   "cell_type": "code",
   "execution_count": 3,
   "id": "8f52047b",
   "metadata": {},
   "outputs": [],
   "source": [
    "stability_api = client.StabilityInference(\n",
    "    key=config['STABILITY_AI_KEY'], \n",
    "    verbose=True,\n",
    ")"
   ]
  },
  {
   "cell_type": "code",
   "execution_count": 14,
   "id": "c5a4983e",
   "metadata": {},
   "outputs": [],
   "source": [
    "answers = stability_api.generate(\n",
    "    #prompt=\"Oil painting of a tranquil river surrounded by mountains, with a cabin on the shore, boats, and a sunset, heavily textured brushstrokes, warm and vibrant colors\",\n",
    "    prompt=f'''Create a Birthday Invitation with the following text - ***You are invited to Elton Joshua's Birthday Lunch\n",
    "            Sunday 27th August 2023\n",
    "            Savoury Restaurant, Bangalore ***\n",
    "\n",
    "            Points to note:\n",
    "            Please include the given text without alteration.\n",
    "            Please use the animated party themed light background image''',\n",
    "    #     seed=992446758, # If a seed is provided, the resulting generated image will be deterministic.\n",
    "                    # What this means is that as long as all generation parameters remain the same, you can always recall the same image simply by generating it again.\n",
    "                    # Note: This isn't quite the case for Clip Guided generations, which we'll tackle in a future example notebook.\n",
    "    steps=30, # Amount of inference steps performed on image generation. Defaults to 30.\n",
    "    cfg_scale=8.0, # Influences how strongly your generation is guided to match your prompt.\n",
    "                   # Setting this value higher increases the strength in which it tries to match your prompt.\n",
    "                   # Defaults to 7.0 if not specified.\n",
    "    width=512, # Generation width, defaults to 512 if not included.\n",
    "    height=512, # Generation height, defaults to 512 if not included.\n",
    "    samples=1, # Number of images to generate, defaults to 1 if not included.\n",
    "    sampler=generation.SAMPLER_K_DPMPP_2M # Choose which sampler we want to denoise our generation with.\n",
    "                                                 # Defaults to k_dpmpp_2m if not specified. Clip Guidance only supports ancestral samplers.\n",
    "                                                 # (Available Samplers: ddim, plms, k_euler, k_euler_ancestral, k_heun, k_dpm_2, k_dpm_2_ancestral, k_dpmpp_2s_ancestral, k_lms, k_dpmpp_2m)\n",
    ")"
   ]
  },
  {
   "cell_type": "code",
   "execution_count": 15,
   "id": "87ed105e",
   "metadata": {},
   "outputs": [
    {
     "ename": "_MultiThreadedRendezvous",
     "evalue": "<_MultiThreadedRendezvous of RPC that terminated with:\n\tstatus = StatusCode.RESOURCE_EXHAUSTED\n\tdetails = \"Your organization does not have enough balance to request this action (need $0.016, have $0.002 in active grants, $0 in balance).\"\n\tdebug_error_string = \"UNKNOWN:Error received from peer ipv4:104.18.21.212:443 {grpc_message:\"Your organization does not have enough balance to request this action (need $0.016, have $0.002 in active grants, $0 in balance).\", grpc_status:8, created_time:\"2023-08-19T06:21:11.960238957+00:00\"}\"\n>",
     "output_type": "error",
     "traceback": [
      "\u001b[1;31m---------------------------------------------------------------------------\u001b[0m",
      "\u001b[1;31m_MultiThreadedRendezvous\u001b[0m                  Traceback (most recent call last)",
      "Cell \u001b[1;32mIn[15], line 3\u001b[0m\n\u001b[0;32m      1\u001b[0m \u001b[38;5;66;03m# Set up our warning to print to the console if the adult content classifier is tripped.\u001b[39;00m\n\u001b[0;32m      2\u001b[0m \u001b[38;5;66;03m# If adult content classifier is not tripped, save generated images.\u001b[39;00m\n\u001b[1;32m----> 3\u001b[0m \u001b[38;5;28;01mfor\u001b[39;00m resp \u001b[38;5;129;01min\u001b[39;00m answers:\n\u001b[0;32m      4\u001b[0m     \u001b[38;5;28;01mfor\u001b[39;00m artifact \u001b[38;5;129;01min\u001b[39;00m resp\u001b[38;5;241m.\u001b[39martifacts:\n\u001b[0;32m      5\u001b[0m         \u001b[38;5;28;01mif\u001b[39;00m artifact\u001b[38;5;241m.\u001b[39mfinish_reason \u001b[38;5;241m==\u001b[39m generation\u001b[38;5;241m.\u001b[39mFILTER:\n",
      "File \u001b[1;32m~\\AppData\\Local\\Programs\\Python\\Python311\\Lib\\site-packages\\stability_sdk\\client.py:395\u001b[0m, in \u001b[0;36mStabilityInference.emit_request\u001b[1;34m(self, prompt, image_parameters, extra_parameters, engine_id, request_id)\u001b[0m\n\u001b[0;32m    392\u001b[0m     logger\u001b[38;5;241m.\u001b[39minfo(\u001b[38;5;124m\"\u001b[39m\u001b[38;5;124mSending request.\u001b[39m\u001b[38;5;124m\"\u001b[39m)\n\u001b[0;32m    394\u001b[0m start \u001b[38;5;241m=\u001b[39m time\u001b[38;5;241m.\u001b[39mtime()\n\u001b[1;32m--> 395\u001b[0m \u001b[38;5;28;01mfor\u001b[39;00m answer \u001b[38;5;129;01min\u001b[39;00m \u001b[38;5;28mself\u001b[39m\u001b[38;5;241m.\u001b[39mstub\u001b[38;5;241m.\u001b[39mGenerate(rq, \u001b[38;5;241m*\u001b[39m\u001b[38;5;241m*\u001b[39m\u001b[38;5;28mself\u001b[39m\u001b[38;5;241m.\u001b[39mgrpc_args):\n\u001b[0;32m    396\u001b[0m     duration \u001b[38;5;241m=\u001b[39m time\u001b[38;5;241m.\u001b[39mtime() \u001b[38;5;241m-\u001b[39m start\n\u001b[0;32m    397\u001b[0m     \u001b[38;5;28;01mif\u001b[39;00m \u001b[38;5;28mself\u001b[39m\u001b[38;5;241m.\u001b[39mverbose:\n",
      "File \u001b[1;32m~\\AppData\\Local\\Programs\\Python\\Python311\\Lib\\site-packages\\grpc\\_channel.py:475\u001b[0m, in \u001b[0;36m_Rendezvous.__next__\u001b[1;34m(self)\u001b[0m\n\u001b[0;32m    474\u001b[0m \u001b[38;5;28;01mdef\u001b[39;00m \u001b[38;5;21m__next__\u001b[39m(\u001b[38;5;28mself\u001b[39m):\n\u001b[1;32m--> 475\u001b[0m     \u001b[38;5;28;01mreturn\u001b[39;00m \u001b[38;5;28;43mself\u001b[39;49m\u001b[38;5;241;43m.\u001b[39;49m\u001b[43m_next\u001b[49m\u001b[43m(\u001b[49m\u001b[43m)\u001b[49m\n",
      "File \u001b[1;32m~\\AppData\\Local\\Programs\\Python\\Python311\\Lib\\site-packages\\grpc\\_channel.py:881\u001b[0m, in \u001b[0;36m_MultiThreadedRendezvous._next\u001b[1;34m(self)\u001b[0m\n\u001b[0;32m    879\u001b[0m     \u001b[38;5;28;01mraise\u001b[39;00m \u001b[38;5;167;01mStopIteration\u001b[39;00m()\n\u001b[0;32m    880\u001b[0m \u001b[38;5;28;01melif\u001b[39;00m \u001b[38;5;28mself\u001b[39m\u001b[38;5;241m.\u001b[39m_state\u001b[38;5;241m.\u001b[39mcode \u001b[38;5;129;01mis\u001b[39;00m \u001b[38;5;129;01mnot\u001b[39;00m \u001b[38;5;28;01mNone\u001b[39;00m:\n\u001b[1;32m--> 881\u001b[0m     \u001b[38;5;28;01mraise\u001b[39;00m \u001b[38;5;28mself\u001b[39m\n",
      "\u001b[1;31m_MultiThreadedRendezvous\u001b[0m: <_MultiThreadedRendezvous of RPC that terminated with:\n\tstatus = StatusCode.RESOURCE_EXHAUSTED\n\tdetails = \"Your organization does not have enough balance to request this action (need $0.016, have $0.002 in active grants, $0 in balance).\"\n\tdebug_error_string = \"UNKNOWN:Error received from peer ipv4:104.18.21.212:443 {grpc_message:\"Your organization does not have enough balance to request this action (need $0.016, have $0.002 in active grants, $0 in balance).\", grpc_status:8, created_time:\"2023-08-19T06:21:11.960238957+00:00\"}\"\n>"
     ]
    }
   ],
   "source": [
    "# Set up our warning to print to the console if the adult content classifier is tripped.\n",
    "# If adult content classifier is not tripped, save generated images.\n",
    "for resp in answers:\n",
    "    for artifact in resp.artifacts:\n",
    "        if artifact.finish_reason == generation.FILTER:\n",
    "            warnings.warn(\n",
    "                \"Your request activated the API's safety filters and could not be processed.\"\n",
    "                \"Please modify the prompt and try again.\")\n",
    "        if artifact.type == generation.ARTIFACT_IMAGE:\n",
    "            img = Image.open(io.BytesIO(artifact.binary))\n",
    "            display(img)\n",
    "            # Save our generated images with their seed number as the filename.\n",
    "            # img.save(str(artifact.seed)+ \".png\") "
   ]
  },
  {
   "cell_type": "code",
   "execution_count": null,
   "id": "fff97c23",
   "metadata": {},
   "outputs": [],
   "source": []
  }
 ],
 "metadata": {
  "kernelspec": {
   "display_name": "Python 3 (ipykernel)",
   "language": "python",
   "name": "python3"
  },
  "language_info": {
   "codemirror_mode": {
    "name": "ipython",
    "version": 3
   },
   "file_extension": ".py",
   "mimetype": "text/x-python",
   "name": "python",
   "nbconvert_exporter": "python",
   "pygments_lexer": "ipython3",
   "version": "3.11.3"
  }
 },
 "nbformat": 4,
 "nbformat_minor": 5
}
